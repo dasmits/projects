{
  "nbformat": 4,
  "nbformat_minor": 0,
  "metadata": {
    "kernelspec": {
      "display_name": "Python 3",
      "language": "python",
      "name": "python3"
    },
    "language_info": {
      "codemirror_mode": {
        "name": "ipython",
        "version": 3
      },
      "file_extension": ".py",
      "mimetype": "text/x-python",
      "name": "python",
      "nbconvert_exporter": "python",
      "pygments_lexer": "ipython3",
      "version": "3.8.1"
    },
    "colab": {
      "name": "analysis.ipynb",
      "provenance": []
    }
  },
  "cells": [
    {
      "cell_type": "code",
      "metadata": {
        "id": "JwiropdV2PM9",
        "colab_type": "code",
        "colab": {}
      },
      "source": [
        "import numpy as np\n",
        "import pandas as pd\n",
        "import pickle\n",
        "from matplotlib import pyplot as plt\n",
        "from scipy import stats\n",
        "from scipy.spatial.distance import cosine as csim\n",
        "from statsmodels.stats import anova\n",
        "from statsmodels.formula.api import ols"
      ],
      "execution_count": null,
      "outputs": []
    },
    {
      "cell_type": "code",
      "metadata": {
        "id": "gIaep50I2PNA",
        "colab_type": "code",
        "colab": {}
      },
      "source": [
        "def sim(a,b):\n",
        "    if a.shape != b.shape:\n",
        "        raise ValueError(\"ERROR: Input shape mismatch a:\"+a.shape+\", b:\"+b.shape)\n",
        "    \n",
        "    if len(a.shape) ==2:        \n",
        "        return np.sum(a*b, axis=1)/(np.linalg.norm(a,2,1)*np.linalg.norm(b,2,1))\n",
        "#         return [csim(x,y) for x,y in zip(a,b)]\n",
        "    elif len(a.shape)==3:\n",
        "        return np.sum(a*b, axis=2)/(np.linalg.norm(a,2,2)*np.linalg.norm(b,2,2))\n",
        "    else: \n",
        "        raise ValueError(\"ERROR, Input shape too large\")"
      ],
      "execution_count": null,
      "outputs": []
    },
    {
      "cell_type": "code",
      "metadata": {
        "id": "7xUvCR_m2PNC",
        "colab_type": "code",
        "colab": {}
      },
      "source": [
        "data = {}\n",
        "\n",
        "with open('./data/homonymy_vecs.pkl','rb') as f:\n",
        "    data['h'] = pickle.load(f)\n",
        "    \n",
        "with open('./data/polysemy_vecs.pkl','rb') as f:\n",
        "    data['p']= pickle.load(f)\n",
        "    \n",
        "with open('/unambiguous_vecs.pkl','rb') as f:\n",
        "    data['u'] = pickle.load(f)\n",
        "    \n",
        "key2word = {'h':'Homonymy', 'p':'Polysemy', 'u':'Unambiguous', 's':'Artificial', 'n':'Natural'}\n",
        "keys = data.keys()\n",
        "key2color = {'nh':'#910616', 'sh':\"#ff122a\", 'np':'#0c4700', 'sp':'#10c944', 'nu':'#013485', 'su':'#2CBFF5'}\n",
        "key2marker =  {'nh':\"^\", 'sh':\"v\", 'np':'P', 'sp':\"X\", 'nu':'s', 'su':'D'}"
      ],
      "execution_count": null,
      "outputs": []
    },
    {
      "cell_type": "code",
      "metadata": {
        "id": "qEs0o3X_2PNE",
        "colab_type": "code",
        "colab": {}
      },
      "source": [
        "# axes = []\n",
        "# figures = []\n",
        "# split_data = {}\n",
        "\n",
        "stand_sim = {}\n",
        "nat_sim = {}\n",
        "# in_t = []\n",
        "\n",
        "bins = int(1/.05)\n",
        "rng = (.5,1)\n",
        "alpha = .5\n",
        "\n",
        "x= np.linspace(.5,1,100)\n",
        "\n",
        "for d in keys:\n",
        "    terms = []\n",
        "    vecs = []\n",
        "\n",
        "    for k,v in data[d].items():\n",
        "        terms.append(k)\n",
        "        vecs.append(v)\n",
        "\n",
        "    vecs = np.array(vecs)\n",
        "    na = vecs[:,0:3].mean(1)\n",
        "    nb = vecs[:,3:6].mean(1)\n",
        "#     na = vecs[:,0+int(np.random.uniform(0,1)*3)]\n",
        "#     nb = vecs[:,3+int(np.random.uniform(0,1)*3)]\n",
        "    sa = vecs [:, 6]\n",
        "    sb = vecs [:, 7]\n",
        "    \n",
        "    \n",
        "    stand, nat = sim(sa,sb), sim(na,nb)\n",
        "    stand_sim[d]=stand\n",
        "    nat_sim[d]=nat\n",
        "    \n",
        "#     fig,ax = plt.subplots()\n",
        "       \n",
        "    \n",
        "#     nx,ny = np.histogram(nat,bins,rng)\n",
        "#     ny=np.array([(ny[i]+ny[i+1])/2 for i in range(len(ny)-1)])\n",
        "#     ny = ny[nx!=0]\n",
        "#     nx = nx[nx!=0]\n",
        "    \n",
        "#     sx,sy = np.histogram(stand,bins,rng)\n",
        "#     sy=np.array([(sy[i]+sy[i+1])/2 for i in range(len(sy)-1)])\n",
        "#     sy = sy[sx!=0]\n",
        "#     sx = sx[sx!=0]\n",
        "    \n",
        "    \n",
        "#     ax.scatter(ny,nx,color=key2color['n'+d],marker=key2marker['n'+d],alpha=alpha,label=\"Natural\")\n",
        "#     ax.plot(x,stats.norm.pdf(x,nat.mean(),nat.std()), color=key2color['n'+d])\n",
        "    \n",
        "#     ax.scatter(sy,sx,color=key2color['s'+d], marker=key2marker['s'+d], alpha=alpha,label=\"Artificial\")\n",
        "#     ax.plot(x,stats.norm.pdf(x,stand.mean(),stand.std()), color=key2color['s'+d])\n",
        "    \n",
        "#     ax.set_ylabel(\"Count\")\n",
        "#     ax.set_xlabel(\"Cosine Similarity\")\n",
        "#     ax.set_title(key2word[d]+\": Artificial vs. Natural Contexts\")\n",
        "#     ax.legend()\n",
        "    \n",
        "#     fig.savefig(key2word[d]+'_within_comp.png')\n",
        "#     axes.append(ax)\n",
        "#     figures.append(fig)\n",
        "    \n",
        "#     in_t.append(stats.ttest_ind(stand,nat, 0, False))"
      ],
      "execution_count": null,
      "outputs": []
    },
    {
      "cell_type": "code",
      "metadata": {
        "id": "NsqxEVbu2PNG",
        "colab_type": "code",
        "colab": {}
      },
      "source": [
        "ex_t = []\n",
        "# comp_data = {\"s\":stand_sim, \"n\":nat_sim}\n",
        "comp_data={\"n\":nat_sim}\n",
        "\n",
        "\n",
        "for d in comp_data.keys():\n",
        "    fig,ax = plt.subplots()\n",
        "    \n",
        "    for k in keys:\n",
        "        # Get Points of Distribution\n",
        "        xx,yy= np.histogram(comp_data[d][k],bins,rng)\n",
        "        yy=np.array([(yy[i]+yy[i+1])/2 for i in range(len(yy)-1)])\n",
        "        yy = yy[xx!=0]\n",
        "        xx = xx[xx!=0]\n",
        "\n",
        "        ax.scatter(yy,xx,color=key2color[d+k],marker=key2marker[d+k],\\\n",
        "                   alpha=alpha,label=key2word[k][:5])\n",
        "        ax.plot(x,stats.norm.pdf(x,comp_data[d][k].mean(),comp_data[d][k].std()),\\\n",
        "                color=key2color[d+k], alpha=.95)\n",
        "    \n",
        "    \n",
        "    ax.set_ylabel(\"Count\")\n",
        "    ax.set_xlabel(\"Cosine Similarity\")\n",
        "    ax.set_title(key2word[d]+\" Averaged Context\")\n",
        "    ax.legend()\n",
        "    fig.savefig(key2word[d]+\"_between_avg.png\")"
      ],
      "execution_count": null,
      "outputs": []
    },
    {
      "cell_type": "code",
      "metadata": {
        "scrolled": true,
        "id": "6rjSjnIY2PNK",
        "colab_type": "code",
        "colab": {}
      },
      "source": [
        "# df = pd.DataFrame([], columns=[\"Context\", \"Word\", \"Sim\"])\n",
        "df = pd.DataFrame([], columns=[\"Word\", \"Sim\"])\n",
        "\n",
        "for c in comp_data.keys():\n",
        "    for k in keys:        \n",
        "#         df=df.append(pd.DataFrame([{'Context':c,'Word':k,'Sim':sim} \\\n",
        "#                    for sim in comp_data[c][k]]), True)\n",
        "        df=df.append(pd.DataFrame([{'Word':k,'Sim':sim} \\\n",
        "                   for sim in comp_data[c][k]]), True)"
      ],
      "execution_count": null,
      "outputs": []
    },
    {
      "cell_type": "code",
      "metadata": {
        "id": "9acjPKVx2PNM",
        "colab_type": "code",
        "colab": {}
      },
      "source": [
        "df.to_csv('sim_data_avg.csv', index=False)"
      ],
      "execution_count": null,
      "outputs": []
    },
    {
      "cell_type": "code",
      "metadata": {
        "id": "J0I7_HJR2PNQ",
        "colab_type": "code",
        "colab": {}
      },
      "source": [
        "#     ax.hist(stand, color='blue', edgecolor='black', bins=bins,\\\n",
        "#             range=rng, alpha=alpha, label=\"Art Cos Sim\")\n",
        "#     ax.hist(nat, color='red', edgecolor='black', bins=bins, \\\n",
        "#             range=rng, alpha=alpha, label=\"Nat Cos Sim\")\n",
        "\n",
        "#     ax.axvline(x=stand.mean(), color='blue', label=\"Art {}\".format('\\u03BC'))\n",
        "#     ax.axvline(x=nat.mean(), color='red',label=\"Nat {}\".format('\\u03BC'))\n",
        "\n",
        "#     ax.axvline(x=stand.mean()+stand.std(),linestyle='--',\\\n",
        "#                color='blue', alpha=alpha*1.5, label=\"Art {}\".format(u'\\u03BC\\u00B1\\u03C3'))\n",
        "#     ax.axvline(x=stand.mean()-stand.std(),linestyle='--', color='blue', alpha=alpha*1.5)\n",
        "#     ax.axvline(x=nat.mean()+nat.std(),linestyle='--', \\\n",
        "#                color='red', alpha=alpha*1.5,label=\"Nat {}\".format(u'\\u03BC\\u00B1\\u03C3'))\n",
        "#     ax.axvline(x=nat.mean()-nat.std(),linestyle='--', color='red', alpha=alpha*1.5)"
      ],
      "execution_count": null,
      "outputs": []
    }
  ]
}